{
 "cells": [
  {
   "cell_type": "code",
   "execution_count": 5,
   "metadata": {},
   "outputs": [],
   "source": [
    "import pandas as pd\n",
    "import numpy as np\n",
    "import os\n",
    "\n",
    "from sklearn.model_selection import train_test_split\n",
    "from sklearn.preprocessing import StandardScaler\n",
    "from sklearn.svm import SVC\n",
    "from sklearn.metrics import accuracy_score"
   ]
  },
  {
   "cell_type": "code",
   "execution_count": 6,
   "metadata": {},
   "outputs": [],
   "source": [
    "cwd = os.getcwd()"
   ]
  },
  {
   "cell_type": "code",
   "execution_count": 17,
   "metadata": {},
   "outputs": [
    {
     "name": "stderr",
     "output_type": "stream",
     "text": [
      "/tmp/ipykernel_110286/4123645007.py:1: DtypeWarning: Columns (16) have mixed types. Specify dtype option on import or set low_memory=False.\n",
      "  df_raw = pd.read_csv(cwd+'/data.csv', index_col=0)\n"
     ]
    }
   ],
   "source": [
    "df_raw = pd.read_csv(cwd+'/data.csv', index_col=0)"
   ]
  },
  {
   "cell_type": "code",
   "execution_count": 19,
   "metadata": {},
   "outputs": [],
   "source": [
    "df = df_raw.copy()"
   ]
  },
  {
   "cell_type": "code",
   "execution_count": 20,
   "metadata": {},
   "outputs": [
    {
     "data": {
      "text/plain": [
       "itemid                           0\n",
       "product_name                     0\n",
       "brand                        40522\n",
       "price_min                        0\n",
       "price                            0\n",
       "price_max                        0\n",
       "price_min_before_discount        0\n",
       "price_before_discount            0\n",
       "price_max_before_discount        0\n",
       "historical_sold                  0\n",
       "sold                             0\n",
       "category0                        0\n",
       "category1                        0\n",
       "category2                     2113\n",
       "category3                    17062\n",
       "category4                    68917\n",
       "fe_category0                     0\n",
       "fe_category1                     0\n",
       "fe_category2                    17\n",
       "normal_stock                     0\n",
       "discount_stock                   0\n",
       "other_stock                      0\n",
       "raw_discount                     0\n",
       "ctime                            0\n",
       "liked_count                      0\n",
       "cmt_count                        0\n",
       "shop_name                        0\n",
       "shop_location                   14\n",
       "rating_star                      0\n",
       "revenue                          0\n",
       "historical_revenue               0\n",
       "rating_total_count               0\n",
       "dtype: int64"
      ]
     },
     "execution_count": 20,
     "metadata": {},
     "output_type": "execute_result"
    }
   ],
   "source": [
    "df.isnull().sum()"
   ]
  }
 ],
 "metadata": {
  "kernelspec": {
   "display_name": "base",
   "language": "python",
   "name": "python3"
  },
  "language_info": {
   "codemirror_mode": {
    "name": "ipython",
    "version": 3
   },
   "file_extension": ".py",
   "mimetype": "text/x-python",
   "name": "python",
   "nbconvert_exporter": "python",
   "pygments_lexer": "ipython3",
   "version": "3.9.13"
  },
  "orig_nbformat": 4
 },
 "nbformat": 4,
 "nbformat_minor": 2
}
