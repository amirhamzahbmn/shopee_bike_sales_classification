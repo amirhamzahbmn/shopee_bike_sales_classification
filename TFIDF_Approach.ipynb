{
 "cells": [
  {
   "cell_type": "code",
   "execution_count": 1,
   "metadata": {},
   "outputs": [],
   "source": [
    "import pandas as pd\n",
    "import numpy as np\n",
    "from scipy.stats import randint\n",
    "import seaborn as sns # used for plot interactive graph. \n",
    "import matplotlib.pyplot as plt\n",
    "import seaborn as sns\n",
    "from io import StringIO\n",
    "from sklearn.feature_extraction.text import TfidfVectorizer\n",
    "from sklearn.feature_selection import chi2\n",
    "from IPython.display import display\n",
    "from sklearn.model_selection import train_test_split\n",
    "from sklearn.feature_extraction.text import TfidfTransformer\n",
    "from sklearn.naive_bayes import MultinomialNB\n",
    "from sklearn.linear_model import LogisticRegression\n",
    "from sklearn.ensemble import RandomForestClassifier\n",
    "from sklearn.svm import LinearSVC\n",
    "from sklearn.model_selection import cross_val_score\n",
    "from sklearn.metrics import confusion_matrix\n",
    "from sklearn import metrics\n",
    "\n",
    "pd.set_option('display.max_colwidth', 1000)"
   ]
  },
  {
   "cell_type": "code",
   "execution_count": 2,
   "metadata": {},
   "outputs": [],
   "source": [
    "dfdesc = pd.read_csv('datafull.csv', usecols=['itemid', 'description'])"
   ]
  },
  {
   "cell_type": "code",
   "execution_count": 3,
   "metadata": {},
   "outputs": [
    {
     "name": "stderr",
     "output_type": "stream",
     "text": [
      "/tmp/ipykernel_38765/363772746.py:1: DtypeWarning: Columns (16) have mixed types. Specify dtype option on import or set low_memory=False.\n",
      "  df = pd.read_csv('data.csv', index_col=0)\n"
     ]
    },
    {
     "data": {
      "text/plain": [
       "(68952, 32)"
      ]
     },
     "execution_count": 3,
     "metadata": {},
     "output_type": "execute_result"
    }
   ],
   "source": [
    "df = pd.read_csv('data.csv', index_col=0)\n",
    "df.shape"
   ]
  },
  {
   "cell_type": "code",
   "execution_count": 4,
   "metadata": {},
   "outputs": [],
   "source": [
    "df1 = df[['itemid','product_name', 'fe_category0', 'fe_category1', 'fe_category2']]"
   ]
  },
  {
   "cell_type": "code",
   "execution_count": 5,
   "metadata": {},
   "outputs": [],
   "source": [
    "df2 = df1.merge(dfdesc, on='itemid')"
   ]
  },
  {
   "cell_type": "code",
   "execution_count": 6,
   "metadata": {},
   "outputs": [],
   "source": [
    "train_df = df2[['description', 'fe_category0']]\n",
    "train_df.columns  = ['description', 'product_category']"
   ]
  },
  {
   "cell_type": "code",
   "execution_count": 7,
   "metadata": {},
   "outputs": [],
   "source": [
    "train_df = train_df.fillna(' ')"
   ]
  },
  {
   "cell_type": "code",
   "execution_count": 8,
   "metadata": {},
   "outputs": [
    {
     "data": {
      "text/plain": [
       "product_category\n",
       "Sports & Outdoor          54890\n",
       "Games, Books & Hobbies     6358\n",
       "Automotive                 2814\n",
       "Baby & Toys                1838\n",
       "Home & Living              1686\n",
       "Fashion Accessories        1388\n",
       "Men Clothes                 797\n",
       "Health & Beauty             723\n",
       "Mobile & Accessories        588\n",
       "Computer & Accessories      412\n",
       "Groceries & Pets            341\n",
       "Home Appliances             275\n",
       "Women Clothes               201\n",
       "Cameras & Drones            178\n",
       "Watches                     122\n",
       "Men Shoes                   101\n",
       "Women's Bags                 81\n",
       "Muslim Fashion               74\n",
       "Travel & Luggage             63\n",
       "Gaming & Consoles            59\n",
       "Men's Bags & Wallets         46\n",
       "Women Shoes                  15\n",
       "Tickets & Vouchers            7\n",
       "Others                        3\n",
       "Name: count, dtype: int64"
      ]
     },
     "execution_count": 8,
     "metadata": {},
     "output_type": "execute_result"
    }
   ],
   "source": [
    "train_df.product_category.value_counts()"
   ]
  },
  {
   "cell_type": "code",
   "execution_count": 9,
   "metadata": {},
   "outputs": [],
   "source": [
    "train_df['category_id'] = train_df['product_category'].factorize()[0]\n"
   ]
  },
  {
   "cell_type": "code",
   "execution_count": 10,
   "metadata": {},
   "outputs": [],
   "source": [
    "train_df_sample = train_df.sample(10000, random_state=1).copy()"
   ]
  },
  {
   "cell_type": "code",
   "execution_count": 11,
   "metadata": {},
   "outputs": [],
   "source": [
    "category_id_df = train_df_sample[['product_category', 'category_id']].drop_duplicates()\n",
    "category_to_id = dict(category_id_df.values)\n",
    "id_to_category = dict(category_id_df[['category_id', 'product_category']].values)"
   ]
  },
  {
   "cell_type": "code",
   "execution_count": 12,
   "metadata": {},
   "outputs": [
    {
     "name": "stdout",
     "output_type": "stream",
     "text": [
      "(10000, 31263)\n"
     ]
    }
   ],
   "source": [
    "tfidf = TfidfVectorizer(sublinear_tf=True, min_df=5,\n",
    "                       ngram_range=(1, 2),\n",
    "                       stop_words='english')\n",
    "\n",
    "features = tfidf.fit_transform(train_df_sample.description).toarray()\n",
    "labels = train_df_sample.category_id\n",
    "print(features.shape)"
   ]
  },
  {
   "cell_type": "code",
   "execution_count": 13,
   "metadata": {},
   "outputs": [
    {
     "name": "stdout",
     "output_type": "stream",
     "text": [
      "\n",
      "==> Automotive:\n",
      "  * Most Correlated Unigrams are: visor, car, motorcycle\n",
      "  * Most Correlated Bigrams are: brand italy, visor included, color visor\n",
      "\n",
      "==> Baby & Toys:\n",
      "  * Most Correlated Unigrams are: kids, walker, baby\n",
      "  * Most Correlated Bigrams are: length 21, 0cm size, 5cm size\n",
      "\n",
      "==> Cameras & Drones:\n",
      "  * Most Correlated Unigrams are: volt, 84g, camera\n",
      "  * Most Correlated Bigrams are: model type, toys model, rc toys\n",
      "\n",
      "==> Computer & Accessories:\n",
      "  * Most Correlated Unigrams are: ram, gpu, cpu\n",
      "  * Most Correlated Bigrams are: power cable, cooling fan, graphics card\n",
      "\n",
      "==> Fashion Accessories:\n",
      "  * Most Correlated Unigrams are: party, necklace, jewelry\n",
      "  * Most Correlated Bigrams are: necklace note, 2cm errors, errors manual\n",
      "\n",
      "==> Games, Books & Hobbies:\n",
      "  * Most Correlated Unigrams are: deck, playing, cards\n",
      "  * Most Correlated Bigrams are: card company, playing card, playing cards\n",
      "\n",
      "==> Gaming & Consoles:\n",
      "  * Most Correlated Unigrams are: game, fighting, console\n",
      "  * Most Correlated Bigrams are: cable 1x, sensitive touch, sweat proof\n",
      "\n",
      "==> Groceries & Pets:\n",
      "  * Most Correlated Unigrams are: expired, 2024, pets\n",
      "  * Most Correlated Bigrams are: gluten free, shelf life, net content\n",
      "\n",
      "==> Health & Beauty:\n",
      "  * Most Correlated Unigrams are: wheelchair, whey, protein\n",
      "  * Most Correlated Bigrams are: amino acids, kerusi roda, whey protein\n",
      "\n",
      "==> Home & Living:\n",
      "  * Most Correlated Unigrams are: xingyu, disposable, nitrile\n",
      "  * Most Correlated Bigrams are: return package, disposable material, material nitrile\n",
      "\n",
      "==> Home Appliances:\n",
      "  * Most Correlated Unigrams are: speaker, microphone, oven\n",
      "  * Most Correlated Bigrams are: battery aaa, replacement spare, remote control\n",
      "\n",
      "==> Men Clothes:\n",
      "  * Most Correlated Unigrams are: indah, pandan, jersey\n",
      "  * Most Correlated Bigrams are: try fitting, indah features, lokasi kuala\n",
      "\n",
      "==> Men Shoes:\n",
      "  * Most Correlated Unigrams are: lace, wholeheartedly, boots\n",
      "  * Most Correlated Bigrams are: assured order, 26cm 43, 27cm 45\n",
      "\n",
      "==> Men's Bags & Wallets:\n",
      "  * Most Correlated Unigrams are: hujan, sling, biker\n",
      "  * Most Correlated Bigrams are: 100 waterproof, sling bag, rubber feet\n",
      "\n",
      "==> Mobile & Accessories:\n",
      "  * Most Correlated Unigrams are: stereo, speaker, vr\n",
      "  * Most Correlated Bigrams are: smart watch, usb male, usb power\n",
      "\n",
      "==> Muslim Fashion:\n",
      "  * Most Correlated Unigrams are: surfing, swimsuit, muslim\n",
      "  * Most Correlated Bigrams are: design lightweight, lightweight tube, technology american\n",
      "\n",
      "==> Others:\n",
      "  * Most Correlated Unigrams are: spesifikasi, ciri, bateri\n",
      "  * Most Correlated Bigrams are: basikal basikal, yang kuat, spesifikasi warna\n",
      "\n",
      "==> Sports & Outdoor:\n",
      "  * Most Correlated Unigrams are: deck, playing, cards\n",
      "  * Most Correlated Bigrams are: card company, playing card, playing cards\n",
      "\n",
      "==> Tickets & Vouchers:\n",
      "  * Most Correlated Unigrams are: fees, plans, balance\n",
      "  * Most Correlated Bigrams are: order order, different types, contact customer\n",
      "\n",
      "==> Travel & Luggage:\n",
      "  * Most Correlated Unigrams are: switzerland, luggage, suitcase\n",
      "  * Most Correlated Bigrams are: plastic provides, nylon polyester, bag included\n",
      "\n",
      "==> Watches:\n",
      "  * Most Correlated Unigrams are: mins, huawei, garminmalaysia\n",
      "  * Most Correlated Bigrams are: film screen, tpu cover, garmin garminmalaysia\n",
      "\n",
      "==> Women Clothes:\n",
      "  * Most Correlated Unigrams are: tee, pickup, rejection\n",
      "  * Most Correlated Bigrams are: pattern style, composition content, fabric composition\n",
      "\n",
      "==> Women's Bags:\n",
      "  * Most Correlated Unigrams are: bb30, tarmac, strand\n",
      "  * Most Correlated Bigrams are: integrated sun, zipper pull, shoulder bag\n"
     ]
    }
   ],
   "source": [
    "# Finding the three most correlated terms with each of the product categories\n",
    "N = 3\n",
    "for product_category, category_id in sorted(category_to_id.items()):\n",
    "  features_chi2 = chi2(features, labels == category_id)\n",
    "  indices = np.argsort(features_chi2[0])\n",
    "  feature_names = np.array(tfidf.get_feature_names_out())[indices]\n",
    "  unigrams = [v for v in feature_names if len(v.split(' ')) == 1]\n",
    "  bigrams = [v for v in feature_names if len(v.split(' ')) == 2]\n",
    "  print(\"\\n==> %s:\" %(product_category))\n",
    "  print(\"  * Most Correlated Unigrams are: %s\" %(', '.join(unigrams[-N:])))\n",
    "  print(\"  * Most Correlated Bigrams are: %s\" %(', '.join(bigrams[-N:])))"
   ]
  },
  {
   "cell_type": "code",
   "execution_count": 14,
   "metadata": {},
   "outputs": [],
   "source": [
    "X = train_df_sample['description'] # Collection of documents\n",
    "y = train_df_sample['product_category'] # Target or the labels we want to predict (i.e., the 13 different complaints of products)\n",
    "\n",
    "X_train, X_test, y_train, y_test = train_test_split(X, y, \n",
    "                                                    test_size=0.25,\n",
    "                                                    random_state = 0)"
   ]
  },
  {
   "cell_type": "code",
   "execution_count": 15,
   "metadata": {},
   "outputs": [
    {
     "name": "stderr",
     "output_type": "stream",
     "text": [
      "/home/tooshy/anaconda3/lib/python3.9/site-packages/sklearn/model_selection/_split.py:700: UserWarning: The least populated class in y has only 1 members, which is less than n_splits=5.\n",
      "  warnings.warn(\n",
      "/home/tooshy/anaconda3/lib/python3.9/site-packages/sklearn/model_selection/_split.py:700: UserWarning: The least populated class in y has only 1 members, which is less than n_splits=5.\n",
      "  warnings.warn(\n",
      "/home/tooshy/anaconda3/lib/python3.9/site-packages/sklearn/model_selection/_split.py:700: UserWarning: The least populated class in y has only 1 members, which is less than n_splits=5.\n",
      "  warnings.warn(\n",
      "/home/tooshy/anaconda3/lib/python3.9/site-packages/sklearn/model_selection/_split.py:700: UserWarning: The least populated class in y has only 1 members, which is less than n_splits=5.\n",
      "  warnings.warn(\n",
      "/home/tooshy/anaconda3/lib/python3.9/site-packages/sklearn/linear_model/_logistic.py:458: ConvergenceWarning: lbfgs failed to converge (status=1):\n",
      "STOP: TOTAL NO. of ITERATIONS REACHED LIMIT.\n",
      "\n",
      "Increase the number of iterations (max_iter) or scale the data as shown in:\n",
      "    https://scikit-learn.org/stable/modules/preprocessing.html\n",
      "Please also refer to the documentation for alternative solver options:\n",
      "    https://scikit-learn.org/stable/modules/linear_model.html#logistic-regression\n",
      "  n_iter_i = _check_optimize_result(\n",
      "/home/tooshy/anaconda3/lib/python3.9/site-packages/sklearn/linear_model/_logistic.py:458: ConvergenceWarning: lbfgs failed to converge (status=1):\n",
      "STOP: TOTAL NO. of ITERATIONS REACHED LIMIT.\n",
      "\n",
      "Increase the number of iterations (max_iter) or scale the data as shown in:\n",
      "    https://scikit-learn.org/stable/modules/preprocessing.html\n",
      "Please also refer to the documentation for alternative solver options:\n",
      "    https://scikit-learn.org/stable/modules/linear_model.html#logistic-regression\n",
      "  n_iter_i = _check_optimize_result(\n"
     ]
    }
   ],
   "source": [
    "models = [\n",
    "    RandomForestClassifier(n_estimators=100, max_depth=5, random_state=0),\n",
    "    LinearSVC(),\n",
    "    MultinomialNB(),\n",
    "    LogisticRegression(random_state=0),\n",
    "]\n",
    "\n",
    "# 5 Cross-validation\n",
    "CV = 5\n",
    "cv_df = pd.DataFrame(index=range(CV * len(models)))\n",
    "\n",
    "entries = []\n",
    "for model in models:\n",
    "  model_name = model.__class__.__name__\n",
    "  accuracies = cross_val_score(model, features, labels, scoring='accuracy', cv=CV)\n",
    "  for fold_idx, accuracy in enumerate(accuracies):\n",
    "    entries.append((model_name, fold_idx, accuracy))\n",
    "    \n",
    "cv_df = pd.DataFrame(entries, columns=['model_name', 'fold_idx', 'accuracy'])"
   ]
  },
  {
   "cell_type": "code",
   "execution_count": 16,
   "metadata": {},
   "outputs": [
    {
     "data": {
      "text/html": [
       "<div>\n",
       "<style scoped>\n",
       "    .dataframe tbody tr th:only-of-type {\n",
       "        vertical-align: middle;\n",
       "    }\n",
       "\n",
       "    .dataframe tbody tr th {\n",
       "        vertical-align: top;\n",
       "    }\n",
       "\n",
       "    .dataframe thead th {\n",
       "        text-align: right;\n",
       "    }\n",
       "</style>\n",
       "<table border=\"1\" class=\"dataframe\">\n",
       "  <thead>\n",
       "    <tr style=\"text-align: right;\">\n",
       "      <th></th>\n",
       "      <th>Mean Accuracy</th>\n",
       "      <th>Standard deviation</th>\n",
       "    </tr>\n",
       "    <tr>\n",
       "      <th>model_name</th>\n",
       "      <th></th>\n",
       "      <th></th>\n",
       "    </tr>\n",
       "  </thead>\n",
       "  <tbody>\n",
       "    <tr>\n",
       "      <th>LinearSVC</th>\n",
       "      <td>0.8974</td>\n",
       "      <td>0.005237</td>\n",
       "    </tr>\n",
       "    <tr>\n",
       "      <th>LogisticRegression</th>\n",
       "      <td>0.8624</td>\n",
       "      <td>0.003130</td>\n",
       "    </tr>\n",
       "    <tr>\n",
       "      <th>MultinomialNB</th>\n",
       "      <td>0.8355</td>\n",
       "      <td>0.003391</td>\n",
       "    </tr>\n",
       "    <tr>\n",
       "      <th>RandomForestClassifier</th>\n",
       "      <td>0.7729</td>\n",
       "      <td>0.001851</td>\n",
       "    </tr>\n",
       "  </tbody>\n",
       "</table>\n",
       "</div>"
      ],
      "text/plain": [
       "                        Mean Accuracy  Standard deviation\n",
       "model_name                                               \n",
       "LinearSVC                      0.8974            0.005237\n",
       "LogisticRegression             0.8624            0.003130\n",
       "MultinomialNB                  0.8355            0.003391\n",
       "RandomForestClassifier         0.7729            0.001851"
      ]
     },
     "execution_count": 16,
     "metadata": {},
     "output_type": "execute_result"
    }
   ],
   "source": [
    "mean_accuracy = cv_df.groupby('model_name').accuracy.mean()\n",
    "std_accuracy = cv_df.groupby('model_name').accuracy.std()\n",
    "\n",
    "acc = pd.concat([mean_accuracy, std_accuracy], axis= 1, \n",
    "          ignore_index=True)\n",
    "acc.columns = ['Mean Accuracy', 'Standard deviation']\n",
    "acc"
   ]
  },
  {
   "cell_type": "code",
   "execution_count": 17,
   "metadata": {},
   "outputs": [
    {
     "data": {
      "image/png": "[encoded data removed]",
      "text/plain": [
       "<Figure size 800x500 with 1 Axes>"
      ]
     },
     "metadata": {},
     "output_type": "display_data"
    }
   ],
   "source": [
    "plt.figure(figsize=(8,5))\n",
    "sns.boxplot(x='model_name', y='accuracy', \n",
    "            data=cv_df, \n",
    "            color='lightblue', \n",
    "            showmeans=True)\n",
    "plt.title(\"MEAN ACCURACY (cv = 5)\\n\", size=14);"
   ]
  },
  {
   "cell_type": "code",
   "execution_count": 23,
   "metadata": {},
   "outputs": [],
   "source": [
    "\n",
    "\n",
    "X_train, X_test, y_train, y_test,indices_train,indices_test = train_test_split(features, \n",
    "                                                               labels, \n",
    "                                                               train_df_sample.index, test_size=0.25, \n",
    "                                                               random_state=1)\n",
    "model = LinearSVC()\n",
    "model.fit(X_train, y_train)\n",
    "y_pred = model.predict(X_test)\n",
    "\n"
   ]
  },
  {
   "cell_type": "code",
   "execution_count": 24,
   "metadata": {},
   "outputs": [
    {
     "name": "stdout",
     "output_type": "stream",
     "text": [
      "\t\t\t\tCLASSIFICATIION METRICS\n",
      "\n"
     ]
    },
    {
     "ename": "ValueError",
     "evalue": "Number of classes, 21, does not match size of target_names, 23. Try specifying the labels parameter",
     "output_type": "error",
     "traceback": [
      "\u001b[0;31m---------------------------------------------------------------------------\u001b[0m",
      "\u001b[0;31mValueError\u001b[0m                                Traceback (most recent call last)",
      "\u001b[0;32m/tmp/ipykernel_38765/723254144.py\u001b[0m in \u001b[0;36m<module>\u001b[0;34m\u001b[0m\n\u001b[1;32m      1\u001b[0m \u001b[0;31m# Classification report\u001b[0m\u001b[0;34m\u001b[0m\u001b[0;34m\u001b[0m\u001b[0m\n\u001b[1;32m      2\u001b[0m \u001b[0mprint\u001b[0m\u001b[0;34m(\u001b[0m\u001b[0;34m'\\t\\t\\t\\tCLASSIFICATIION METRICS\\n'\u001b[0m\u001b[0;34m)\u001b[0m\u001b[0;34m\u001b[0m\u001b[0;34m\u001b[0m\u001b[0m\n\u001b[0;32m----> 3\u001b[0;31m print(metrics.classification_report(y_test, y_pred, \n\u001b[0m\u001b[1;32m      4\u001b[0m                                     target_names= train_df_sample['product_category'].unique()))\n\u001b[1;32m      5\u001b[0m \u001b[0;34m\u001b[0m\u001b[0m\n",
      "\u001b[0;32m~/anaconda3/lib/python3.9/site-packages/sklearn/metrics/_classification.py\u001b[0m in \u001b[0;36mclassification_report\u001b[0;34m(y_true, y_pred, labels, target_names, sample_weight, digits, output_dict, zero_division)\u001b[0m\n\u001b[1;32m   2330\u001b[0m             )\n\u001b[1;32m   2331\u001b[0m         \u001b[0;32melse\u001b[0m\u001b[0;34m:\u001b[0m\u001b[0;34m\u001b[0m\u001b[0;34m\u001b[0m\u001b[0m\n\u001b[0;32m-> 2332\u001b[0;31m             raise ValueError(\n\u001b[0m\u001b[1;32m   2333\u001b[0m                 \u001b[0;34m\"Number of classes, {0}, does not match size of \"\u001b[0m\u001b[0;34m\u001b[0m\u001b[0;34m\u001b[0m\u001b[0m\n\u001b[1;32m   2334\u001b[0m                 \u001b[0;34m\"target_names, {1}. Try specifying the labels \"\u001b[0m\u001b[0;34m\u001b[0m\u001b[0;34m\u001b[0m\u001b[0m\n",
      "\u001b[0;31mValueError\u001b[0m: Number of classes, 21, does not match size of target_names, 23. Try specifying the labels parameter"
     ]
    }
   ],
   "source": [
    "\n",
    "\n",
    "# Classification report\n",
    "print('\\t\\t\\t\\tCLASSIFICATIION METRICS\\n')\n",
    "print(metrics.classification_report(y_test, y_pred, \n",
    "                                    target_names= train_df_sample['product_category'].unique()))\n",
    "\n"
   ]
  }
 ],
 "metadata": {
  "kernelspec": {
   "display_name": "base",
   "language": "python",
   "name": "python3"
  },
  "language_info": {
   "codemirror_mode": {
    "name": "ipython",
    "version": 3
   },
   "file_extension": ".py",
   "mimetype": "text/x-python",
   "name": "python",
   "nbconvert_exporter": "python",
   "pygments_lexer": "ipython3",
   "version": "3.9.13"
  },
  "orig_nbformat": 4
 },
 "nbformat": 4,
 "nbformat_minor": 2
}
